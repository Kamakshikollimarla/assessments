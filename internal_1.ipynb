{
  "nbformat": 4,
  "nbformat_minor": 0,
  "metadata": {
    "colab": {
      "provenance": []
    },
    "kernelspec": {
      "name": "python3",
      "display_name": "Python 3"
    },
    "language_info": {
      "name": "python"
    }
  },
  "cells": [
    {
      "cell_type": "code",
      "execution_count": 58,
      "metadata": {
        "colab": {
          "base_uri": "https://localhost:8080/"
        },
        "id": "D9lx7r3taXBv",
        "outputId": "dd4eb9d1-5f12-40d8-a47f-bccb67141170"
      },
      "outputs": [
        {
          "output_type": "stream",
          "name": "stdout",
          "text": [
            "enter length:  2\n",
            "enter width:  5\n",
            "area is  10\n"
          ]
        }
      ],
      "source": [
        "# LAB 1\n",
        "# #1\n",
        "length = int(input(\"enter length:  \"))\n",
        "width = int(input(\"enter width:  \"))\n",
        "print(\"area is \", length*width)\n",
        "\n",
        "\n"
      ]
    },
    {
      "cell_type": "code",
      "source": [
        "#2\n",
        "weight = float(input(\"enter your weight in kgs:\"))\n",
        "height = float(input(\"enter your height in cms:\"))\n",
        "print(\"your bmi is  \",round(weight/(pow(height*0.01,2)),2))\n"
      ],
      "metadata": {
        "colab": {
          "base_uri": "https://localhost:8080/"
        },
        "id": "WILmsx8gfHbE",
        "outputId": "ac2f132f-5a9f-4bd9-e279-19f5e4d201ef"
      },
      "execution_count": 7,
      "outputs": [
        {
          "output_type": "stream",
          "name": "stdout",
          "text": [
            "enter your weight in kgs:60\n",
            "enter your height in cms:140\n",
            "your bmi is   30.61\n"
          ]
        }
      ]
    },
    {
      "cell_type": "code",
      "source": [
        "#3\n",
        "students = {}\n",
        "name  = input(\"enter students name: \")\n",
        "while(name):\n",
        "  score = int(input(\"enter score: \"))\n",
        "  students.update({name:score})\n",
        "  name  = input(\"enter students name or press enter to exit \")\n",
        "\n",
        "print(students)"
      ],
      "metadata": {
        "colab": {
          "base_uri": "https://localhost:8080/"
        },
        "id": "6SBX5FnAfNTG",
        "outputId": "e5872fbc-6b53-49e2-f1a9-0cfd227f07fe"
      },
      "execution_count": 60,
      "outputs": [
        {
          "output_type": "stream",
          "name": "stdout",
          "text": [
            "enter students name: toji\n",
            "enter score: 85\n",
            "enter students name or press enter to exit gojo\n",
            "enter score: 100\n",
            "enter students name or press enter to exit sukuna\n",
            "enter score: 99\n",
            "enter students name or press enter to exit \n",
            "{'toji': 85, 'gojo': 100, 'sukuna': 99}\n"
          ]
        }
      ]
    },
    {
      "cell_type": "code",
      "source": [
        "#4\n",
        "age = input(\"enter your age:\")\n",
        "while(age):\n",
        "  if age < '18':\n",
        "    print(\"minor\")\n",
        "  elif age>'18' and age < '60':\n",
        "    print(\"adult\")\n",
        "  else :\n",
        "    print(\"senior\")\n",
        "  age = input(\"enter your age or press enter to exit\")"
      ],
      "metadata": {
        "colab": {
          "base_uri": "https://localhost:8080/"
        },
        "id": "SiEg3IUifbci",
        "outputId": "088e6a6b-1ebe-49b3-a7e9-0a2192fda46d"
      },
      "execution_count": 61,
      "outputs": [
        {
          "name": "stdout",
          "output_type": "stream",
          "text": [
            "enter your age:40\n",
            "adult\n",
            "enter your age or press enter to exit10\n",
            "minor\n",
            "enter your age or press enter to exit65\n",
            "senior\n",
            "enter your age or press enter to exit\n"
          ]
        }
      ]
    },
    {
      "cell_type": "code",
      "source": [
        "#5\n",
        "for i in range(50):\n",
        "  if i%2 == 0:\n",
        "    print(i, end= \" \")"
      ],
      "metadata": {
        "colab": {
          "base_uri": "https://localhost:8080/"
        },
        "id": "XW1cc1FIf-9q",
        "outputId": "304f637a-84a0-4f35-a48c-5107342f32e2"
      },
      "execution_count": 12,
      "outputs": [
        {
          "output_type": "stream",
          "name": "stdout",
          "text": [
            "0 2 4 6 8 10 12 14 16 18 20 22 24 26 28 30 32 34 36 38 40 42 44 46 48 "
          ]
        }
      ]
    },
    {
      "cell_type": "code",
      "source": [
        "#6\n",
        "users = {}\n",
        "\n",
        "name = input(\"enter username: \")\n",
        "pwd = input(\"set your password: \")\n",
        "users.update({name:pwd})\n",
        "try:\n",
        "  name  = input(\"enter username: \")\n",
        "  pwd = input(\"enter your password: \")\n",
        "  while(pwd != users[name]):\n",
        "    pwd = input(\"enter your password: \")\n",
        "except:\n",
        "  print(\"key not found\")\n",
        "\n",
        "\n",
        "\n"
      ],
      "metadata": {
        "colab": {
          "base_uri": "https://localhost:8080/"
        },
        "id": "LQpuXEZ8gGnf",
        "outputId": "a3555f7f-0625-4673-b8dc-bf92f663af5a"
      },
      "execution_count": 65,
      "outputs": [
        {
          "name": "stdout",
          "output_type": "stream",
          "text": [
            "enter username: megumi\n",
            "set your password: fushiguro\n",
            "enter username: megumi\n",
            "enter your password: toji\n",
            "enter your password: zenin\n",
            "enter your password: gojo\n",
            "enter your password: fushiguro\n"
          ]
        }
      ]
    },
    {
      "cell_type": "code",
      "source": [
        "#7\n",
        "data = list(map(int,input(\"give a list of numbers\").split()))\n",
        "\n",
        "l = len(data)\n",
        "sum = 0\n",
        "for i in data:\n",
        "  sum += i\n",
        "print(\"average is :\" , sum/l)"
      ],
      "metadata": {
        "colab": {
          "base_uri": "https://localhost:8080/"
        },
        "id": "qMDBgDjgg27D",
        "outputId": "99e9fcb1-4601-43df-c58c-5166c367b1ea"
      },
      "execution_count": 66,
      "outputs": [
        {
          "output_type": "stream",
          "name": "stdout",
          "text": [
            "give a list of numbers3 4 5 6 7 1 2\n",
            "average is : 4.0\n"
          ]
        }
      ]
    },
    {
      "cell_type": "code",
      "source": [
        "#8\n",
        "data = input(\"enter a string\")\n",
        "vowel_c = 0\n",
        "for i in data:\n",
        "  if i in ['A','E','I','O','U'] or i in ['a','e','i','o','u'] :\n",
        "    vowel_c += 1\n",
        "print(\"number of vowels in the string are: \",vowel_c)\n"
      ],
      "metadata": {
        "colab": {
          "base_uri": "https://localhost:8080/"
        },
        "id": "4oQB7FE2hRH2",
        "outputId": "64737629-26c4-4a17-bfee-22acf7b9c981"
      },
      "execution_count": 67,
      "outputs": [
        {
          "output_type": "stream",
          "name": "stdout",
          "text": [
            "enter a stringqwedaeSDASFFQERJDIQNWDNCQOWEFNWOCNOasdnoqiwenfowefspfiqofEDJFIQEV\n",
            "number of vowels in the string are:  21\n"
          ]
        }
      ]
    },
    {
      "cell_type": "code",
      "source": [
        "#9\n",
        "from datetime import datetime\n",
        "\n",
        "now = datetime.now()\n",
        "print(now)"
      ],
      "metadata": {
        "colab": {
          "base_uri": "https://localhost:8080/"
        },
        "id": "qG8q1lAyiCf6",
        "outputId": "eb1fca64-5a7f-401c-a715-c5f40d1be03f"
      },
      "execution_count": 68,
      "outputs": [
        {
          "output_type": "stream",
          "name": "stdout",
          "text": [
            "2024-03-14 11:02:52.924182\n"
          ]
        }
      ]
    },
    {
      "cell_type": "code",
      "source": [
        "#10\n",
        "\n",
        "a = input(\"enter values: \").split()\n",
        "while(a):\n",
        "  try:\n",
        "    print(int(a[0])+int(a[1]))\n",
        "  except:\n",
        "    print(\"enter numeric values\")\n",
        "  a = input(\"enter values or press enter to exit \").split()"
      ],
      "metadata": {
        "colab": {
          "base_uri": "https://localhost:8080/"
        },
        "id": "eczHi4b6iJmm",
        "outputId": "f4d1673e-3d5d-4c21-ab0c-e7483678c391"
      },
      "execution_count": 70,
      "outputs": [
        {
          "name": "stdout",
          "output_type": "stream",
          "text": [
            "enter values: 1 2 \n",
            "3\n",
            "enter values or press enter to exit 2 d\n",
            "enter numeric values\n",
            "enter values or press enter to exit 1 5 \n",
            "6\n",
            "enter values or press enter to exit 1 t\n",
            "enter numeric values\n",
            "enter values or press enter to exit t y\n",
            "enter numeric values\n",
            "enter values or press enter to exit \n"
          ]
        }
      ]
    },
    {
      "cell_type": "code",
      "source": [
        "#11\n",
        "try:\n",
        "  a = int(input())\n",
        "except:\n",
        "  print(\"enter integer values\")"
      ],
      "metadata": {
        "colab": {
          "base_uri": "https://localhost:8080/"
        },
        "id": "WryDtuBzm1Q8",
        "outputId": "bdb96e78-c00a-429f-8a8f-10e2989e9ae9"
      },
      "execution_count": 57,
      "outputs": [
        {
          "name": "stdout",
          "output_type": "stream",
          "text": [
            "4\n"
          ]
        }
      ]
    },
    {
      "cell_type": "code",
      "source": [
        "#12\n",
        "a = list(map(int,input(\"enter 2 numbers:\").split()))\n",
        "\n",
        "try:\n",
        "  print(a[0]/a[1])\n",
        "except:\n",
        "  print(\"cannot divide by zero, try again\")"
      ],
      "metadata": {
        "colab": {
          "base_uri": "https://localhost:8080/"
        },
        "id": "_ixHv5mtjUpl",
        "outputId": "5c765669-e355-417a-88e0-21e9cb4520d0"
      },
      "execution_count": 71,
      "outputs": [
        {
          "output_type": "stream",
          "name": "stdout",
          "text": [
            "enter 2 numbers:1 0\n",
            "cannot divide by zero, try again\n"
          ]
        }
      ]
    },
    {
      "cell_type": "code",
      "source": [
        "#13\n",
        "\n",
        "with open(\"/content/sample_data/python\",'w') as file:\n",
        "  file.write(\"Hello, Python!\")"
      ],
      "metadata": {
        "id": "jxAjD3Etj7oC"
      },
      "execution_count": 72,
      "outputs": []
    },
    {
      "cell_type": "code",
      "source": [
        "#14\n",
        "with open(\"/content/sample_data/python\",'r') as file:\n",
        "  x = file.read()\n",
        "print(x)"
      ],
      "metadata": {
        "colab": {
          "base_uri": "https://localhost:8080/"
        },
        "id": "UBtRGx23k_pD",
        "outputId": "db6c971d-42cf-4422-c4bc-7f46000a9f1f"
      },
      "execution_count": 73,
      "outputs": [
        {
          "output_type": "stream",
          "name": "stdout",
          "text": [
            "Hello, Python!\n"
          ]
        }
      ]
    },
    {
      "cell_type": "code",
      "source": [
        "#15\n",
        "\n",
        "with open(\"/content/sample_data/python\",'a') as file:\n",
        "  file.write(\"\\ninternal assessment 1\")\n",
        "with open(\"/content/sample_data/python\",'r') as file:\n",
        "  x = file.read()\n",
        "print(x)\n"
      ],
      "metadata": {
        "colab": {
          "base_uri": "https://localhost:8080/"
        },
        "id": "kj3IaWv_lHrF",
        "outputId": "7b1b7fed-086e-4717-f9fb-c5e03deff832"
      },
      "execution_count": 74,
      "outputs": [
        {
          "output_type": "stream",
          "name": "stdout",
          "text": [
            "Hello, Python!\n",
            "internal assessment 1\n"
          ]
        }
      ]
    }
  ]
}